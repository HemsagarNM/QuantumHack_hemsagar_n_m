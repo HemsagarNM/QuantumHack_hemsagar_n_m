{
 "cells": [
  {
   "cell_type": "markdown",
   "id": "d518b3dc",
   "metadata": {},
   "source": [
    "# MONGO DB DATABASE CONNECTION"
   ]
  },
  {
   "cell_type": "code",
   "execution_count": 1,
   "id": "cd40cdbd",
   "metadata": {},
   "outputs": [],
   "source": [
    "import pymongo\n",
    "class mongocrud:\n",
    "    def __init__(self,url,db):\n",
    "        self.client=pymongo.MongoClient(url)\n",
    "        self.db=self.client[db]\n",
    "        self.col=None\n",
    "\n",
    "    def create(self,col):\n",
    "        self.col = self.db[col]\n",
    "    \n",
    "    def insert(self,data):\n",
    "        self.col.insert_one(data)\n",
    "    \n",
    "    def delete(self,data):\n",
    "        self.col.delete_one(data)\n",
    "\n",
    "    def update(self,data):\n",
    "        self.col.update_one()\n",
    "    \n",
    "    def find(self,data=None):\n",
    "        return self.col.find(data)        "
   ]
  },
  {
   "cell_type": "code",
   "execution_count": 2,
   "id": "26ea0cdd",
   "metadata": {
    "scrolled": false
   },
   "outputs": [],
   "source": [
    "mon = mongocrud('mongodb://localhost:27017/','hack')# DATABASE CONNECTION\n",
    "mon.create('resumedata')#CREATE CONNECTION"
   ]
  },
  {
   "cell_type": "code",
   "execution_count": null,
   "id": "342eb702",
   "metadata": {},
   "outputs": [],
   "source": []
  },
  {
   "cell_type": "markdown",
   "id": "b234dff6",
   "metadata": {},
   "source": [
    "# OPENING DIRECTORY TO THE CVs"
   ]
  },
  {
   "cell_type": "code",
   "execution_count": 4,
   "id": "f5a1aa3c",
   "metadata": {},
   "outputs": [],
   "source": [
    "import os\n",
    "abspath=r'C:\\Users\\cheth\\Desktop\\resumes'#FOLDER TO RESUMES\n",
    "file=os.listdir(abspath)\n",
    "files=list(file)"
   ]
  },
  {
   "cell_type": "markdown",
   "id": "5216960f",
   "metadata": {},
   "source": [
    "# PARSING RESUME and INSERTING DATA IN DATABASE"
   ]
  },
  {
   "cell_type": "code",
   "execution_count": 5,
   "id": "27514ed8",
   "metadata": {},
   "outputs": [],
   "source": [
    "from pyresparser import ResumeParser\n",
    "\n",
    "def parse(resume):\n",
    "    data = ResumeParser(resume).get_extracted_data()\n",
    "    mon.insert(data) "
   ]
  },
  {
   "cell_type": "code",
   "execution_count": null,
   "id": "88191c3b",
   "metadata": {},
   "outputs": [],
   "source": [
    "for i in files:#INSERTING CVS INTO DATABASE\n",
    "    parse(os.path.join(abspath,i))"
   ]
  },
  {
   "cell_type": "code",
   "execution_count": null,
   "id": "b2b4ef69",
   "metadata": {},
   "outputs": [],
   "source": []
  },
  {
   "cell_type": "code",
   "execution_count": 16,
   "id": "995c9411",
   "metadata": {},
   "outputs": [],
   "source": []
  },
  {
   "cell_type": "code",
   "execution_count": 31,
   "id": "c2dcc9ee",
   "metadata": {},
   "outputs": [
    {
     "name": "stdout",
     "output_type": "stream",
     "text": [
      "GOOD JAVA CVs\n"
     ]
    },
    {
     "data": {
      "text/plain": [
       "[(6, 'Name   ', 'pareshpk.tech@gmail.com'),\n",
       " (5, 'Yash Ananta', 'zodeyash@gmail.com'),\n",
       " (5, 'Software Skills', 'rachayitapatro337741@gmail.com'),\n",
       " (5, 'Software Engineer', 'email:-pandasimran321@gmail.com'),\n",
       " (5, 'Rakesh Kolhe Male', 'rakeshkolhe392@gmail.com'),\n",
       " (5, 'Rajkumar Mallik', 'Email:tech.rajkumar04@gmail.com'),\n",
       " (5, 'RESUME Email', 'vjsajimol@gmail.com'),\n",
       " (5, 'RAUSHAN KUMAR', 'raushanpaswan194@gmail.com'),\n",
       " (5, 'OMKAR GHUGARE', 'omkar.ghugare992@gmail.com'),\n",
       " (5, 'NAG ARJUN', 'nagarjuna.m34@outlook.com'),\n",
       " (5, 'Curriculum Vitae', 'psiddhu.tech@outlook.com'),\n",
       " (5, 'BhanukumarVadla    Email', 'vadlabhanukumar21@gmail.com'),\n",
       " (5, 'Amit Kumar E', 'amit02543@yahoo.com'),\n",
       " (4, 'VITAE Rohini', 'rohinimali245@gmail.com'),\n",
       " (4,\n",
       "  'Tamil Nadu',\n",
       "  'India+91-8760855125mukeshvignesh1558@gmail.comCERTIFICATION1.'),\n",
       " (4, 'Suresh Nalla', 'sureshnalla1787@gmail.com'),\n",
       " (4, 'Sujeet Kumar', 'sujeetray96@gmail.com'),\n",
       " (4, 'Software Pvt', 'snehaldhok211@gmail.com'),\n",
       " (4, 'Shweta Singh', 'tomarshweta880@gmail.com'),\n",
       " (4, 'SUMANTH Email', 'sumanthit846@gmail.com'),\n",
       " (4, 'SHWETA SINGH', 'sta4326@gmail.com'),\n",
       " (4, 'RAJSHEKAR N', 'raj.shekar09726@gmail.com'),\n",
       " (4, 'Profile Mahesh', 'gajulamahesh94405@gmail.com'),\n",
       " (4, 'Paleti Bhanu', 'paletibanujava0830@gmail.com'),\n",
       " (4, 'POTULARAJU YASWANTH REDDY', 'ryash2077@gmail.com'),\n",
       " (4, 'Om Gawande', 'gawandeom03@gmail.com'),\n",
       " (4,\n",
       "  'NagarjunaAtla                                                                     ',\n",
       "  'Email:atlanagarjuna008@gmail.com'),\n",
       " (4, 'Manasi Aitwade', 'manasi.aitwade17@gmail.com'),\n",
       " (4, 'Mahek Pipalia', 'mahekpipalia1@gmail.com'),\n",
       " (4, 'Madhan D', 'Madhand528@gmail.com'),\n",
       " (4, 'LAKSHMI SRAVANI TADIPARTHI', 'sravani.yls@gmail.com'),\n",
       " (4, 'Konka Karthik', 'Karthik.bly123@gmail.com'),\n",
       " (4, 'Hemlata Krushna', 'hemlata.wagh1995@gmail.com'),\n",
       " (4, 'E R', 'manisha.abdar07@gmail.com'),\n",
       " (4, 'Designation Email', 'shridharchougule597@gmail.com'),\n",
       " (4, 'Debasis Sethy Mobile', 'debasissethy119@gmail.com'),\n",
       " (4, 'DINESH DEVSARKAR', 'dinesdevsarkar@gmail.com'),\n",
       " (4, 'CONTACT Bangalore', 'nanditha.vivek09@gmail.com'),\n",
       " (4, 'CHANDU CHAKALA', 'rajakachandu405@gmail.com'),\n",
       " (4, 'Bengaluru  \\nSoftware Engineer', 'prasad.debi015@gmail.com'),\n",
       " (4, 'BHAVANA S', 'bhavana18894@gmail.com'),\n",
       " (4, 'Ashutosh Suryawanshi', 'suryawanshiashutosh02@gmail.com'),\n",
       " (4, 'Ankit Bhor ankit.bhor56@gmail.com', 'ankit.bhor56@gmail.com'),\n",
       " (3, 'pune Email', 'komalghodeswar77@gmail.com'),\n",
       " (3, 'VISHNU PM', 'VISHNUPM788@GMAIL.COM'),\n",
       " (3, 'VINAYAK PEVEKAR', 'vinayak.pevekar@gmail.com'),\n",
       " (3, 'Taran Kapoor Guda', 'tarankapoor2100@gmail.com'),\n",
       " (3, 'SURAJ SHELKIKAR', 'Surajshelkikar1996@gmail.com'),\n",
       " (3, 'Ravi Kumar', 'ravipandey6748@gmail.com'),\n",
       " (3, 'Rajeev Ranjan', 'E-mail:rajeev.p.ranjan0307@gmail.com'),\n",
       " (3, 'ROJALINI SAHOO', 'sahoorojalin67@gmail.com'),\n",
       " (3, 'Professional Experience', 'archana.srikant06@gmail.com'),\n",
       " (3, 'Prathap R', 'prathapram17@gmail.com'),\n",
       " (3, 'Prakash D', 'tech.prakash94@gmail.com'),\n",
       " (3, 'Neelu Aggarwal', 'neelu.aggarwal94@gmail.com'),\n",
       " (3, 'NITISH PANDEY', 'pandeynitish22@gmail.com'),\n",
       " (3, 'NITHIN R', 'nithin93reghu@gmail.com'),\n",
       " (3, 'NAGABABU BATTHULA', 'nagababu.bathula123@gmail.com'),\n",
       " (3, 'Mukta Joshi', 'muktasj07@gmail.com'),\n",
       " (3, 'MP M', 'MARUTHIPRASADM96@GMAIL.COM'),\n",
       " (3, 'KUMARASWAMY Mobile', 'swamykumara845@gmail.com'),\n",
       " (3, 'Ganesh Gaikwad', 'ganesh.gaikwad5692@gmail.com'),\n",
       " (3,\n",
       "  'Email:sreepatnam82977@gmail.com Career',\n",
       "  'Email:sreepatnam82977@gmail.com'),\n",
       " (3, 'Email ID', 'sabaledeveshri21@gmail.com'),\n",
       " (3, 'ESHWAR NALAKURTHI', 'eswarnalakurthi7@gmail.com'),\n",
       " (3, 'Dipali Zendage', 'dipalizendage94@gmail.com'),\n",
       " (3, 'Dhanu Mobile', 'dhanujavadev@gmail.com'),\n",
       " (3, 'Dell Customer Communication', 'tech.rahulsahu876@gmail.com'),\n",
       " (3, 'Chandan B', 'chandansumithra.bs@gmail.com'),\n",
       " (3, 'Balaji Giridhar', 'balajig2192@gmail.com'),\n",
       " (3, 'BRIJ MOHAN CHAUHAN', 'chauhan.brijmohan95@gmail.com'),\n",
       " (3, 'Arush Agarwal', 'arush.agarwal405@gmail.com'),\n",
       " (2, 'YAMINI GUPTA', 'yaminigupta.1308@gmail.com'),\n",
       " (2, 'Utkarsh Mishra', 'mishrautkarsh894@gmail.com'),\n",
       " (2, 'Sumit Kumar', 'sumitsuman451@gmail.com'),\n",
       " (2, 'SHUBHAM VERMA', 'skverma1121@gmail.com'),\n",
       " (2, 'SANTOSH SAHOO', '–tech.santoshsahoo@gmail.com'),\n",
       " (2, 'Java Developer', 'nogeshhalmare.official@gmail.com'),\n",
       " (2, 'Email ID', 'abhisheknaik6@gmail.com'),\n",
       " (2, 'Deepti Satpathy', 'deeptidash6@gmail.com|'),\n",
       " (2, 'Core Java', 'MANIMANICSE11@GMAIL.COM'),\n",
       " (2, 'Chandresh Vikram', 'chandresh.vikram211@gmail.com'),\n",
       " (2, 'Bhupendra Kumar', '07kumarbhupendra@gmail.com'),\n",
       " (2, 'B Harinadha', 'Harikrishna4646b@gmail.com'),\n",
       " (2, 'Adarsha G', 'adarshagh04@gmail.com'),\n",
       " (2,\n",
       "  'ANKITA DAGDIYA                                                   \\n\\nSoftware Engineer',\n",
       "  'dagdiyaankita1@gmail.com'),\n",
       " (1, 'Subbareddy  \\n\\n     ', 'subbareddy9195@gmail.com'),\n",
       " (1, 'Sonu Prakash', 'sonuprakashbta@gmail.com'),\n",
       " (1, 'Mallikarjuna Narravula', 'mallikarjuna.java18@gmail.com'),\n",
       " (1, 'Chetan M.', 'chetany1215@gmail.com'),\n",
       " (1, 'Career Summary', 'sivaramakrishnalchjava@gmail.com'),\n",
       " (1, 'CHAKALI ARUN KUMAR Email', 'amarunmahiam@gmail.com'),\n",
       " (1, 'Abhishek Kumar', 'abhisek.dbg17@gmail.com'),\n",
       " (0, 'Zeeshan Ali', 'izeeshanalikhan@gmail.com')]"
      ]
     },
     "execution_count": 31,
     "metadata": {},
     "output_type": "execute_result"
    }
   ],
   "source": [
    "data=mon.find()\n",
    "from nltk.tokenize import word_tokenize\n",
    "def skillscore(skillset):\n",
    "    sampleset=word_tokenize(\"Java Apache Kafka Learn APIs Java Web Frameworks Web Technologies Java EE Components Hibernate Bamboo Maven JSP Design Patterns JUnit and Mockito Java Testing Tools Object-Oriented Programming Spring Framework 6 DevOps Tools React or Angular Software Design and Architecture Jenkins GitLab SQL Spring Boot 3 BigData ORM Cloud Computing Application Containers JVM Internals CI REST API RMI Servlet Socket programming JDBC Code Version Control Core Java IDE Eclipse or IntelliJ Spring Boot Microservices Java Build Tools\")\n",
    "    d={x:False for x in sampleset}\n",
    "    score=0\n",
    "    for i in skillset:\n",
    "        if i in d.keys():\n",
    "            d[i] = 1\n",
    "    score=sum([x for x in d.values()])\n",
    "    return score\n",
    "ans=[]\n",
    "for i in data:\n",
    "    z = dict(i)\n",
    "    skillset=z['skills']\n",
    "    score=skillscore(skillset)\n",
    "    #print(score)\n",
    "    ans.append((score,z['name'],z['email']))\n",
    "\n",
    "#print(ans)\n",
    "#ans.sort()\n",
    "ans1=[]\n",
    "print(\"GOOD JAVA CVs\")\n",
    "for star,name,email in ans:\n",
    "    if star != None and name != None and email != None:\n",
    "        ans1.append((star,name,email))\n",
    "ans1.sort(reverse=1)\n",
    "ans1"
   ]
  },
  {
   "cell_type": "code",
   "execution_count": null,
   "id": "169041ce",
   "metadata": {},
   "outputs": [],
   "source": []
  },
  {
   "cell_type": "code",
   "execution_count": null,
   "id": "a2fc7f61",
   "metadata": {},
   "outputs": [],
   "source": []
  }
 ],
 "metadata": {
  "kernelspec": {
   "display_name": "Python 3 (ipykernel)",
   "language": "python",
   "name": "python3"
  },
  "language_info": {
   "codemirror_mode": {
    "name": "ipython",
    "version": 3
   },
   "file_extension": ".py",
   "mimetype": "text/x-python",
   "name": "python",
   "nbconvert_exporter": "python",
   "pygments_lexer": "ipython3",
   "version": "3.9.13"
  }
 },
 "nbformat": 4,
 "nbformat_minor": 5
}
